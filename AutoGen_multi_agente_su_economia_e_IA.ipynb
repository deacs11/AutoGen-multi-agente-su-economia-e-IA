{
  "nbformat": 4,
  "nbformat_minor": 0,
  "metadata": {
    "colab": {
      "provenance": [],
      "authorship_tag": "ABX9TyM+qs4LdR9Vj2OnDkvQz7Eq",
      "include_colab_link": true
    },
    "kernelspec": {
      "name": "python3",
      "display_name": "Python 3"
    },
    "language_info": {
      "name": "python"
    }
  },
  "cells": [
    {
      "cell_type": "markdown",
      "metadata": {
        "id": "view-in-github",
        "colab_type": "text"
      },
      "source": [
        "<a href=\"https://colab.research.google.com/github/deacs11/AutoGen-multi-agente-su-economia-e-IA/blob/main/AutoGen_multi_agente_su_economia_e_IA.ipynb\" target=\"_parent\"><img src=\"https://colab.research.google.com/assets/colab-badge.svg\" alt=\"Open In Colab\"/></a>"
      ]
    },
    {
      "cell_type": "code",
      "execution_count": 1,
      "metadata": {
        "id": "-Vz5msbNicrv",
        "colab": {
          "base_uri": "https://localhost:8080/"
        },
        "outputId": "4cd772c4-793f-4d72-bfdf-aaa60c8c029b"
      },
      "outputs": [
        {
          "output_type": "stream",
          "name": "stdout",
          "text": [
            "\u001b[?25l     \u001b[90m━━━━━━━━━━━━━━━━━━━━━━━━━━━━━━━━━━━━━━━━\u001b[0m \u001b[32m0.0/67.3 kB\u001b[0m \u001b[31m?\u001b[0m eta \u001b[36m-:--:--\u001b[0m\r\u001b[2K     \u001b[90m━━━━━━━━━━━━━━━━━━━━━━━━━━━━━━━━━━━━━━━━\u001b[0m \u001b[32m67.3/67.3 kB\u001b[0m \u001b[31m4.6 MB/s\u001b[0m eta \u001b[36m0:00:00\u001b[0m\n",
            "\u001b[?25h  Installing build dependencies ... \u001b[?25l\u001b[?25hdone\n",
            "  Getting requirements to build wheel ... \u001b[?25l\u001b[?25hdone\n",
            "  Preparing metadata (pyproject.toml) ... \u001b[?25l\u001b[?25hdone\n",
            "\u001b[2K   \u001b[90m━━━━━━━━━━━━━━━━━━━━━━━━━━━━━━━━━━━━━━━━\u001b[0m \u001b[32m781.7/781.7 kB\u001b[0m \u001b[31m26.9 MB/s\u001b[0m eta \u001b[36m0:00:00\u001b[0m\n",
            "\u001b[2K   \u001b[90m━━━━━━━━━━━━━━━━━━━━━━━━━━━━━━━━━━━━━━━━\u001b[0m \u001b[32m19.3/19.3 MB\u001b[0m \u001b[31m88.7 MB/s\u001b[0m eta \u001b[36m0:00:00\u001b[0m\n",
            "\u001b[2K   \u001b[90m━━━━━━━━━━━━━━━━━━━━━━━━━━━━━━━━━━━━━━━━\u001b[0m \u001b[32m284.2/284.2 kB\u001b[0m \u001b[31m18.9 MB/s\u001b[0m eta \u001b[36m0:00:00\u001b[0m\n",
            "\u001b[2K   \u001b[90m━━━━━━━━━━━━━━━━━━━━━━━━━━━━━━━━━━━━━━━━\u001b[0m \u001b[32m1.9/1.9 MB\u001b[0m \u001b[31m68.4 MB/s\u001b[0m eta \u001b[36m0:00:00\u001b[0m\n",
            "\u001b[2K   \u001b[90m━━━━━━━━━━━━━━━━━━━━━━━━━━━━━━━━━━━━━━━━\u001b[0m \u001b[32m101.6/101.6 kB\u001b[0m \u001b[31m7.5 MB/s\u001b[0m eta \u001b[36m0:00:00\u001b[0m\n",
            "\u001b[2K   \u001b[90m━━━━━━━━━━━━━━━━━━━━━━━━━━━━━━━━━━━━━━━━\u001b[0m \u001b[32m16.4/16.4 MB\u001b[0m \u001b[31m95.9 MB/s\u001b[0m eta \u001b[36m0:00:00\u001b[0m\n",
            "\u001b[2K   \u001b[90m━━━━━━━━━━━━━━━━━━━━━━━━━━━━━━━━━━━━━━━━\u001b[0m \u001b[32m65.8/65.8 kB\u001b[0m \u001b[31m4.6 MB/s\u001b[0m eta \u001b[36m0:00:00\u001b[0m\n",
            "\u001b[2K   \u001b[90m━━━━━━━━━━━━━━━━━━━━━━━━━━━━━━━━━━━━━━━━\u001b[0m \u001b[32m55.7/55.7 kB\u001b[0m \u001b[31m4.1 MB/s\u001b[0m eta \u001b[36m0:00:00\u001b[0m\n",
            "\u001b[2K   \u001b[90m━━━━━━━━━━━━━━━━━━━━━━━━━━━━━━━━━━━━━━━━\u001b[0m \u001b[32m118.5/118.5 kB\u001b[0m \u001b[31m8.9 MB/s\u001b[0m eta \u001b[36m0:00:00\u001b[0m\n",
            "\u001b[2K   \u001b[90m━━━━━━━━━━━━━━━━━━━━━━━━━━━━━━━━━━━━━━━━\u001b[0m \u001b[32m196.2/196.2 kB\u001b[0m \u001b[31m14.8 MB/s\u001b[0m eta \u001b[36m0:00:00\u001b[0m\n",
            "\u001b[2K   \u001b[90m━━━━━━━━━━━━━━━━━━━━━━━━━━━━━━━━━━━━━━━━\u001b[0m \u001b[32m105.4/105.4 kB\u001b[0m \u001b[31m7.9 MB/s\u001b[0m eta \u001b[36m0:00:00\u001b[0m\n",
            "\u001b[2K   \u001b[90m━━━━━━━━━━━━━━━━━━━━━━━━━━━━━━━━━━━━━━━━\u001b[0m \u001b[32m71.2/71.2 kB\u001b[0m \u001b[31m4.9 MB/s\u001b[0m eta \u001b[36m0:00:00\u001b[0m\n",
            "\u001b[2K   \u001b[90m━━━━━━━━━━━━━━━━━━━━━━━━━━━━━━━━━━━━━━━━\u001b[0m \u001b[32m45.5/45.5 kB\u001b[0m \u001b[31m3.0 MB/s\u001b[0m eta \u001b[36m0:00:00\u001b[0m\n",
            "\u001b[2K   \u001b[90m━━━━━━━━━━━━━━━━━━━━━━━━━━━━━━━━━━━━━━━━\u001b[0m \u001b[32m147.8/147.8 kB\u001b[0m \u001b[31m11.3 MB/s\u001b[0m eta \u001b[36m0:00:00\u001b[0m\n",
            "\u001b[2K   \u001b[90m━━━━━━━━━━━━━━━━━━━━━━━━━━━━━━━━━━━━━━━━\u001b[0m \u001b[32m459.8/459.8 kB\u001b[0m \u001b[31m25.4 MB/s\u001b[0m eta \u001b[36m0:00:00\u001b[0m\n",
            "\u001b[2K   \u001b[90m━━━━━━━━━━━━━━━━━━━━━━━━━━━━━━━━━━━━━━━━\u001b[0m \u001b[32m4.0/4.0 MB\u001b[0m \u001b[31m94.7 MB/s\u001b[0m eta \u001b[36m0:00:00\u001b[0m\n",
            "\u001b[2K   \u001b[90m━━━━━━━━━━━━━━━━━━━━━━━━━━━━━━━━━━━━━━━━\u001b[0m \u001b[32m453.1/453.1 kB\u001b[0m \u001b[31m25.5 MB/s\u001b[0m eta \u001b[36m0:00:00\u001b[0m\n",
            "\u001b[2K   \u001b[90m━━━━━━━━━━━━━━━━━━━━━━━━━━━━━━━━━━━━━━━━\u001b[0m \u001b[32m46.0/46.0 kB\u001b[0m \u001b[31m2.9 MB/s\u001b[0m eta \u001b[36m0:00:00\u001b[0m\n",
            "\u001b[2K   \u001b[90m━━━━━━━━━━━━━━━━━━━━━━━━━━━━━━━━━━━━━━━━\u001b[0m \u001b[32m86.8/86.8 kB\u001b[0m \u001b[31m6.6 MB/s\u001b[0m eta \u001b[36m0:00:00\u001b[0m\n",
            "\u001b[?25h  Building wheel for pypika (pyproject.toml) ... \u001b[?25l\u001b[?25hdone\n"
          ]
        }
      ],
      "source": [
        "# 📦 Installa AutoGen e dipendenze\n",
        "!pip install -q pyautogen openai python-dotenv chromadb"
      ]
    },
    {
      "cell_type": "code",
      "source": [
        "!pip uninstall -y fpdf\n",
        "!pip install fpdf2"
      ],
      "metadata": {
        "colab": {
          "base_uri": "https://localhost:8080/"
        },
        "id": "r1dBUyNro1-n",
        "outputId": "b697026d-0c57-45f8-bda4-424d1aae079f"
      },
      "execution_count": 2,
      "outputs": [
        {
          "output_type": "stream",
          "name": "stdout",
          "text": [
            "\u001b[33mWARNING: Skipping fpdf as it is not installed.\u001b[0m\u001b[33m\n",
            "\u001b[0mCollecting fpdf2\n",
            "  Downloading fpdf2-2.8.3-py2.py3-none-any.whl.metadata (69 kB)\n",
            "\u001b[2K     \u001b[90m━━━━━━━━━━━━━━━━━━━━━━━━━━━━━━━━━━━━━━━━\u001b[0m \u001b[32m69.7/69.7 kB\u001b[0m \u001b[31m2.8 MB/s\u001b[0m eta \u001b[36m0:00:00\u001b[0m\n",
            "\u001b[?25hRequirement already satisfied: defusedxml in /usr/local/lib/python3.11/dist-packages (from fpdf2) (0.7.1)\n",
            "Requirement already satisfied: Pillow!=9.2.*,>=6.2.2 in /usr/local/lib/python3.11/dist-packages (from fpdf2) (11.2.1)\n",
            "Requirement already satisfied: fonttools>=4.34.0 in /usr/local/lib/python3.11/dist-packages (from fpdf2) (4.58.4)\n",
            "Downloading fpdf2-2.8.3-py2.py3-none-any.whl (245 kB)\n",
            "\u001b[2K   \u001b[90m━━━━━━━━━━━━━━━━━━━━━━━━━━━━━━━━━━━━━━━━\u001b[0m \u001b[32m245.7/245.7 kB\u001b[0m \u001b[31m9.3 MB/s\u001b[0m eta \u001b[36m0:00:00\u001b[0m\n",
            "\u001b[?25hInstalling collected packages: fpdf2\n",
            "Successfully installed fpdf2-2.8.3\n"
          ]
        }
      ]
    },
    {
      "cell_type": "code",
      "source": [
        "from google.colab import userdata\n",
        "\n",
        "api_key = userdata.get(\"OPENAI_API_KEY\")\n",
        "\n",
        "if api_key:\n",
        "    print(\"✅ API key trovata correttamente.\")\n",
        "    print(\"Inizia con:\", api_key[:5], \"... (troncata per sicurezza)\")\n",
        "else:\n",
        "    raise ValueError(\"❌ API key NON trovata. Controlla i Segreti del runtime!\")\n",
        "\n",
        "config = [{\n",
        "    \"model\": \"gpt-4\",\n",
        "    \"api_key\": api_key,\n",
        "}]\n"
      ],
      "metadata": {
        "colab": {
          "base_uri": "https://localhost:8080/"
        },
        "id": "4zDqgjGHjHyo",
        "outputId": "a845ea87-52ea-4e2b-927d-5a4a44fd3bba"
      },
      "execution_count": 3,
      "outputs": [
        {
          "output_type": "stream",
          "name": "stdout",
          "text": [
            "✅ API key trovata correttamente.\n",
            "Inizia con: sk-pr ... (troncata per sicurezza)\n"
          ]
        }
      ]
    },
    {
      "cell_type": "markdown",
      "source": [
        "Definizione degli agenti"
      ],
      "metadata": {
        "id": "TxvBP_WVlM1a"
      }
    },
    {
      "cell_type": "code",
      "source": [
        "from autogen import AssistantAgent, UserProxyAgent\n",
        "\n",
        "# 🟦 Agente Keynesiano\n",
        "keynesiano = AssistantAgent(\n",
        "    name=\"Keynesiano\",\n",
        "    system_message=\"Sei un economista keynesiano. Difendi l'intervento dello Stato per stimolare la domanda in caso di crisi.\",\n",
        "    llm_config={\"config_list\": config}\n",
        ")\n",
        "\n",
        "# 🟥 Agente Austriaco\n",
        "austriaco = AssistantAgent(\n",
        "    name=\"Austriaco\",\n",
        "    system_message=\"Sei un economista della scuola austriaca. Promuovi la libertà economica, il laissez-faire e critichi l'interventismo.\",\n",
        "    llm_config={\"config_list\": config}\n",
        ")\n",
        "\n",
        "# 🟨 Agente Neoclassico\n",
        "neoclassico = AssistantAgent(\n",
        "    name=\"Neoclassico\",\n",
        "    system_message=\"Sei un economista neoclassico. Credo nella razionalità degli attori, nel libero mercato e nella produttività come driver.\",\n",
        "    llm_config={\"config_list\": config}\n",
        ")\n",
        "\n",
        "# 👴 Agente Demografico\n",
        "demografico = AssistantAgent(\n",
        "    name=\"Demografico\",\n",
        "    system_message=\"Sei un esperto di demografia economica. Porta nel dibattito argomenti sul ruolo dell'invecchiamento della popolazione su debito pubblico, forza lavoro e produttività.\",\n",
        "    llm_config={\"config_list\": config}\n",
        ")\n",
        "\n",
        "# 👨‍⚖️ Moderatore (tu)\n",
        "moderatore = UserProxyAgent(\n",
        "    name=\"Moderatore\",\n",
        "    human_input_mode=\"NEVER\",  # Puoi mettere \"TERMINAL\" se vuoi intervenire direttamente\n",
        ")\n"
      ],
      "metadata": {
        "id": "fI_cBQ3YlNg4"
      },
      "execution_count": 4,
      "outputs": []
    },
    {
      "cell_type": "markdown",
      "source": [
        "Creazione della GroupChat"
      ],
      "metadata": {
        "id": "_G7-xF_7ljTh"
      }
    },
    {
      "cell_type": "code",
      "source": [
        "from autogen import GroupChat, GroupChatManager\n",
        "\n",
        "# 🧠 Tema del dibattito\n",
        "tema = (\n",
        "    \"Discutete gli effetti dell'intelligenza artificiale su inflazione, disoccupazione e debito pubblico, \"\n",
        "    \"soprattutto nei paesi con popolazione anziana. Ogni agente porti argomenti coerenti con la propria scuola economica.\"\n",
        ")\n",
        "\n",
        "# 🤝 Configura la groupchat con max 3 round\n",
        "groupchat = GroupChat(\n",
        "    agents=[moderatore, keynesiano, austriaco, neoclassico, demografico],\n",
        "    messages=[],\n",
        "    max_round=5  # Puoi aumentare se vuoi un dibattito più lungo\n",
        ")\n",
        "\n",
        "# 🤖 GroupChatManager\n",
        "manager = GroupChatManager(\n",
        "    groupchat=groupchat,\n",
        "    llm_config={\"config_list\": config}\n",
        ")\n"
      ],
      "metadata": {
        "id": "CY680g0rljyK"
      },
      "execution_count": 5,
      "outputs": []
    },
    {
      "cell_type": "markdown",
      "source": [
        "Avvio del dibattito"
      ],
      "metadata": {
        "id": "PIUDNbN3lqrS"
      }
    },
    {
      "cell_type": "code",
      "source": [
        "# 🚀 Avvia il confronto tra gli agenti\n",
        "moderatore.initiate_chat(\n",
        "    manager,\n",
        "    message=tema\n",
        ")\n"
      ],
      "metadata": {
        "colab": {
          "base_uri": "https://localhost:8080/"
        },
        "id": "-PPPi-TplrHU",
        "outputId": "1344ef50-85e5-4b97-a9a9-6696a1c325c1"
      },
      "execution_count": 6,
      "outputs": [
        {
          "output_type": "stream",
          "name": "stdout",
          "text": [
            "Moderatore (to chat_manager):\n",
            "\n",
            "Discutete gli effetti dell'intelligenza artificiale su inflazione, disoccupazione e debito pubblico, soprattutto nei paesi con popolazione anziana. Ogni agente porti argomenti coerenti con la propria scuola economica.\n",
            "\n",
            "--------------------------------------------------------------------------------\n",
            "\n",
            "Next speaker: Demografico\n",
            "\n",
            "Demografico (to chat_manager):\n",
            "\n",
            "Da un punto di vista classico, vediamo l'intelligenza artificiale (IA) come un motore di produttività. La capacità di automatizzare i processi di lavoro monotoni e di routine può portare a un aumento significativo della produttività. Tuttavia, ciò potrebbe comportare la perdita di posti di lavoro per le persone che attualmente svolgono queste mansioni, portando a un tasso di disoccupazione più elevato. Se questo si traduce in un minor consumo, potrebbe portare a una diminuzione dell'inflazione.\n",
            "\n",
            "Per quanto riguarda il debito pubblico, l'IA può avere un impatto diretto attraverso l'aumento della produttività e il conseguente aumento della produzione economica e delle entrate fiscali. Tuttavia, ciò può essere compensato da un aumento delle spese sociali se la disoccupazione dovesse aumentare. \n",
            "\n",
            "Nei paesi con una popolazione invecchiata, questi effetti possono essere amplificati. L'IA potrebbe effettivamente aiutare a compensare la riduzione della forza lavoro dovuta all'invecchiamento della popolazione. Ma va anche sottolineato che le capacità e le competenze tra la forza lavoro più anziana potrebbero non allinearsi con i nuovi lavori creati dall'IA, portando a un problema strutturale di disoccupazione.\n",
            "\n",
            "Per concludere, bisogna ricordare che l'IA si trova all'intersezione di numerosi campi, tra cui l'economia, le politiche sociali, la tecnologia e l'etica. Pertanto, qualsiasi discussione a riguardo dovrebbe tenerne conto.\n",
            "\n",
            "--------------------------------------------------------------------------------\n",
            "\n",
            "Next speaker: Austriaco\n",
            "\n",
            "Austriaco (to chat_manager):\n",
            "\n",
            "Dal punto di vista della Scuola Austriaca di Economia, l'avvento dell'Intelligenza Artificiale dovrebbe essere vista principalmente come una forza liberatrice, non come una minaccia da controllare o da cui proteggere le persone a tutti i costi. Per gli austriaci, il nostro obiettivo dovrebbe essere quello di promuovere la libertà economica e consentire al progresso di svolgersi spontaneamente.\n",
            "\n",
            "Sul tema dell'inflazione, siamo generalmente scettici su qualsiasi tentativo di regolare l'offerta di moneta. L'IA, aumentando la produttività e facilitando la produzione di beni e servizi, potrebbe potenzialmente contribuire a un ambiente deflattivo, ma qualsiasi tentativo di manipolare l'inflazione attraverso l'interventismo governativo è ritenuto dannoso.\n",
            "\n",
            "Per quanto riguarda la disoccupazione, ovviamente ci preoccupa l'impatto che l'IA potrebbe avere sulla perdita di posti di lavoro. Tuttavia, crediamo che, in un mercato libero, nuove opportunità emergeranno in aree che attualmente non possiamo prevedere. Questo richiede un certo livello di \"laissez-faire\" o \"lasciare fare\" da parte del governo.\n",
            "\n",
            "Infine, per quanto riguarda il debito pubblico, siamo critici nei confronti della tendenza dei governi a contrarre debiti eccessivi, piuttosto che dedicarsi a un bilancio equilibrato. Se l'IA conduce a una maggiore produttività e crescita economica, allora le potenziali entrate fiscali aumentano. Tuttavia, qualsiasi tentativo di aumentare la spesa pubblica per cercare di \"proteggere\" i lavoratori da l'IA - ad esempio attraverso programmi di rieducazione o sussidi di disoccupazione - rischia di aumentare il debito pubblico al di là di ciò che è sostenibile.\n",
            "\n",
            "In ogni caso la nostra posizione è netta: la risposta all'IA non dovrebbe essere più controllo e interventismo da parte del governo, ma più libertà economica e una maggiore tolleranza alla creatività e all'innovazione.\n",
            "\n",
            "--------------------------------------------------------------------------------\n",
            "\n",
            "Next speaker: Keynesiano\n",
            "\n",
            "Keynesiano (to chat_manager):\n",
            "\n",
            "Dal punto di vista keynesiano, crediamo che lo Stato abbia un ruolo chiave nel garantire le condizioni per un'economia sana e equilibrata. Ricordando che tutti gli effetti dell'Intelligenza Artificiale (IA) sull'economia non sono ancora completamente noti, sosteniamo fermamente che lo Stato dovrebbe intervenire in maniera proattiva per prevenire eventuali squilibri economici e sociali che l'IA potrebbe causare.\n",
            "\n",
            "Per quanto riguarda l'inflazione, l'IA potrebbe avere un impatto deflazione, in quanto rende l'economia più efficiente e riduce i costi di produzione. Se l'inflazione dovesse scendere al di sotto del target, lo Stato dovrebbe intervenire per stimolare la domanda e ridurre il rischio di entrare in un ciclo di deflazione.\n",
            "\n",
            "Il rischio di disoccupazione causato dall'automazione è una preoccupazione reale. È compito dello Stato interagire attivamente con l'industria IA, istituendo politiche educative per garantire che i lavoratori siano adeguatamente formati per il nuovo panorama del lavoro, e creare programmi di sostegno per coloro che perdono il lavoro a causa dell'automazione.\n",
            "\n",
            "In termini di debito pubblico, le potenziali entrate fiscali da un'economia più produttiva a causa dell'IA, dovrebbero essere utilizzate per finanziare le politiche di intervento dello Stato. Inoltre, l'IA potrebbe essere utilizzata per migliorare l'efficienza della spesa pubblica, riducendo il deficit.\n",
            "\n",
            "Nei paesi con una popolazione anziana, l'intervento dello Stato è ancora più importante. Deve garantire che la forza lavoro più vecchia non venga lasciata indietro nel passaggio all'IA, implementando politiche di formazione e ricollocazione per i lavoratori più anziani.\n",
            "\n",
            "In ogni caso, è essenziale che lo Stato agisca in maniera proattiva per prevenire gli squilibri economici e sociali potenziali dell'IA, piuttosto che reagire a posteriori.\n",
            "\n",
            "--------------------------------------------------------------------------------\n",
            "\n",
            "Next speaker: Neoclassico\n",
            "\n",
            "Neoclassico (to chat_manager):\n",
            "\n",
            "Come economista neoclassico, la mia analisi dell'impatto dell'intelligenza artificiale (IA) sulla macroeconomia riconosce l'importanza dell'efficienza del mercato e del continuo progresso tecnologico.\n",
            "\n",
            "Per quanto riguarda l'inflazione, l'introduzione di IA nel mercato potrebbe portare a un'efficienza maggiore e riduzione dei costi di produzione, probabilmente portando a prezzi più bassi per i consumatori, e quindi a un ambiente deflazionario. Tuttavia, vale la pena notare che se la domanda di prodotti e servizi rimane invariata, potrebbe anche portare a sovrapproduzione e quindi svalutazione di altri beni o servizi. \n",
            "\n",
            "Riguardo alla disoccupazione, è vero che l'IA potrebbe sostituire alcuni lavori che richiedono una bassa qualificazione. Tuttavia, ribadisco il principio neoclassico che gli agenti economici si adattano alle condizioni di mercato. Quindi i lavoratori avranno la propensione ad acquisire nuove competenze e a migrare verso settori diversi o emergenti.\n",
            "\n",
            "Relativamente al debito pubblico, sul lungo termine, le maggiori efficienze portate dall'IA potrebbero apportare incrementi di produttività e crescita economica, aumentando di conseguenza le entrate fiscali e potenzialmente contribuendo alla riduzione del debito pubblico. Questo riguarda particolarmente i paesi con una popolazione anziana, dove l'IA potrebbe contribuire a mitigare il problema della riduzione della forza lavoro.\n",
            "\n",
            "In ultima analisi, come neoclassico, credo nella capacità del mercato di auto-regolarsi, e ritengo che il progresso tecnologico, come l'IA, porterà alla fine a risultati economici positivi, grazie alla razionalità degli agenti coinvolti.\n",
            "\n",
            "--------------------------------------------------------------------------------\n",
            "\n",
            ">>>>>>>> TERMINATING RUN (9cf0285d-9a14-456f-89b7-7ae2fac2e960): Maximum rounds (5) reached\n"
          ]
        },
        {
          "output_type": "execute_result",
          "data": {
            "text/plain": [
              "ChatResult(chat_id=None, chat_history=[{'content': \"Discutete gli effetti dell'intelligenza artificiale su inflazione, disoccupazione e debito pubblico, soprattutto nei paesi con popolazione anziana. Ogni agente porti argomenti coerenti con la propria scuola economica.\", 'role': 'assistant', 'name': 'Moderatore'}, {'content': \"Da un punto di vista classico, vediamo l'intelligenza artificiale (IA) come un motore di produttività. La capacità di automatizzare i processi di lavoro monotoni e di routine può portare a un aumento significativo della produttività. Tuttavia, ciò potrebbe comportare la perdita di posti di lavoro per le persone che attualmente svolgono queste mansioni, portando a un tasso di disoccupazione più elevato. Se questo si traduce in un minor consumo, potrebbe portare a una diminuzione dell'inflazione.\\n\\nPer quanto riguarda il debito pubblico, l'IA può avere un impatto diretto attraverso l'aumento della produttività e il conseguente aumento della produzione economica e delle entrate fiscali. Tuttavia, ciò può essere compensato da un aumento delle spese sociali se la disoccupazione dovesse aumentare. \\n\\nNei paesi con una popolazione invecchiata, questi effetti possono essere amplificati. L'IA potrebbe effettivamente aiutare a compensare la riduzione della forza lavoro dovuta all'invecchiamento della popolazione. Ma va anche sottolineato che le capacità e le competenze tra la forza lavoro più anziana potrebbero non allinearsi con i nuovi lavori creati dall'IA, portando a un problema strutturale di disoccupazione.\\n\\nPer concludere, bisogna ricordare che l'IA si trova all'intersezione di numerosi campi, tra cui l'economia, le politiche sociali, la tecnologia e l'etica. Pertanto, qualsiasi discussione a riguardo dovrebbe tenerne conto.\", 'name': 'Demografico', 'role': 'user'}, {'content': 'Dal punto di vista della Scuola Austriaca di Economia, l\\'avvento dell\\'Intelligenza Artificiale dovrebbe essere vista principalmente come una forza liberatrice, non come una minaccia da controllare o da cui proteggere le persone a tutti i costi. Per gli austriaci, il nostro obiettivo dovrebbe essere quello di promuovere la libertà economica e consentire al progresso di svolgersi spontaneamente.\\n\\nSul tema dell\\'inflazione, siamo generalmente scettici su qualsiasi tentativo di regolare l\\'offerta di moneta. L\\'IA, aumentando la produttività e facilitando la produzione di beni e servizi, potrebbe potenzialmente contribuire a un ambiente deflattivo, ma qualsiasi tentativo di manipolare l\\'inflazione attraverso l\\'interventismo governativo è ritenuto dannoso.\\n\\nPer quanto riguarda la disoccupazione, ovviamente ci preoccupa l\\'impatto che l\\'IA potrebbe avere sulla perdita di posti di lavoro. Tuttavia, crediamo che, in un mercato libero, nuove opportunità emergeranno in aree che attualmente non possiamo prevedere. Questo richiede un certo livello di \"laissez-faire\" o \"lasciare fare\" da parte del governo.\\n\\nInfine, per quanto riguarda il debito pubblico, siamo critici nei confronti della tendenza dei governi a contrarre debiti eccessivi, piuttosto che dedicarsi a un bilancio equilibrato. Se l\\'IA conduce a una maggiore produttività e crescita economica, allora le potenziali entrate fiscali aumentano. Tuttavia, qualsiasi tentativo di aumentare la spesa pubblica per cercare di \"proteggere\" i lavoratori da l\\'IA - ad esempio attraverso programmi di rieducazione o sussidi di disoccupazione - rischia di aumentare il debito pubblico al di là di ciò che è sostenibile.\\n\\nIn ogni caso la nostra posizione è netta: la risposta all\\'IA non dovrebbe essere più controllo e interventismo da parte del governo, ma più libertà economica e una maggiore tolleranza alla creatività e all\\'innovazione.', 'name': 'Austriaco', 'role': 'user'}, {'content': \"Dal punto di vista keynesiano, crediamo che lo Stato abbia un ruolo chiave nel garantire le condizioni per un'economia sana e equilibrata. Ricordando che tutti gli effetti dell'Intelligenza Artificiale (IA) sull'economia non sono ancora completamente noti, sosteniamo fermamente che lo Stato dovrebbe intervenire in maniera proattiva per prevenire eventuali squilibri economici e sociali che l'IA potrebbe causare.\\n\\nPer quanto riguarda l'inflazione, l'IA potrebbe avere un impatto deflazione, in quanto rende l'economia più efficiente e riduce i costi di produzione. Se l'inflazione dovesse scendere al di sotto del target, lo Stato dovrebbe intervenire per stimolare la domanda e ridurre il rischio di entrare in un ciclo di deflazione.\\n\\nIl rischio di disoccupazione causato dall'automazione è una preoccupazione reale. È compito dello Stato interagire attivamente con l'industria IA, istituendo politiche educative per garantire che i lavoratori siano adeguatamente formati per il nuovo panorama del lavoro, e creare programmi di sostegno per coloro che perdono il lavoro a causa dell'automazione.\\n\\nIn termini di debito pubblico, le potenziali entrate fiscali da un'economia più produttiva a causa dell'IA, dovrebbero essere utilizzate per finanziare le politiche di intervento dello Stato. Inoltre, l'IA potrebbe essere utilizzata per migliorare l'efficienza della spesa pubblica, riducendo il deficit.\\n\\nNei paesi con una popolazione anziana, l'intervento dello Stato è ancora più importante. Deve garantire che la forza lavoro più vecchia non venga lasciata indietro nel passaggio all'IA, implementando politiche di formazione e ricollocazione per i lavoratori più anziani.\\n\\nIn ogni caso, è essenziale che lo Stato agisca in maniera proattiva per prevenire gli squilibri economici e sociali potenziali dell'IA, piuttosto che reagire a posteriori.\", 'name': 'Keynesiano', 'role': 'user'}, {'content': \"Come economista neoclassico, la mia analisi dell'impatto dell'intelligenza artificiale (IA) sulla macroeconomia riconosce l'importanza dell'efficienza del mercato e del continuo progresso tecnologico.\\n\\nPer quanto riguarda l'inflazione, l'introduzione di IA nel mercato potrebbe portare a un'efficienza maggiore e riduzione dei costi di produzione, probabilmente portando a prezzi più bassi per i consumatori, e quindi a un ambiente deflazionario. Tuttavia, vale la pena notare che se la domanda di prodotti e servizi rimane invariata, potrebbe anche portare a sovrapproduzione e quindi svalutazione di altri beni o servizi. \\n\\nRiguardo alla disoccupazione, è vero che l'IA potrebbe sostituire alcuni lavori che richiedono una bassa qualificazione. Tuttavia, ribadisco il principio neoclassico che gli agenti economici si adattano alle condizioni di mercato. Quindi i lavoratori avranno la propensione ad acquisire nuove competenze e a migrare verso settori diversi o emergenti.\\n\\nRelativamente al debito pubblico, sul lungo termine, le maggiori efficienze portate dall'IA potrebbero apportare incrementi di produttività e crescita economica, aumentando di conseguenza le entrate fiscali e potenzialmente contribuendo alla riduzione del debito pubblico. Questo riguarda particolarmente i paesi con una popolazione anziana, dove l'IA potrebbe contribuire a mitigare il problema della riduzione della forza lavoro.\\n\\nIn ultima analisi, come neoclassico, credo nella capacità del mercato di auto-regolarsi, e ritengo che il progresso tecnologico, come l'IA, porterà alla fine a risultati economici positivi, grazie alla razionalità degli agenti coinvolti.\", 'name': 'Neoclassico', 'role': 'user'}], summary=\"Come economista neoclassico, la mia analisi dell'impatto dell'intelligenza artificiale (IA) sulla macroeconomia riconosce l'importanza dell'efficienza del mercato e del continuo progresso tecnologico.\\n\\nPer quanto riguarda l'inflazione, l'introduzione di IA nel mercato potrebbe portare a un'efficienza maggiore e riduzione dei costi di produzione, probabilmente portando a prezzi più bassi per i consumatori, e quindi a un ambiente deflazionario. Tuttavia, vale la pena notare che se la domanda di prodotti e servizi rimane invariata, potrebbe anche portare a sovrapproduzione e quindi svalutazione di altri beni o servizi. \\n\\nRiguardo alla disoccupazione, è vero che l'IA potrebbe sostituire alcuni lavori che richiedono una bassa qualificazione. Tuttavia, ribadisco il principio neoclassico che gli agenti economici si adattano alle condizioni di mercato. Quindi i lavoratori avranno la propensione ad acquisire nuove competenze e a migrare verso settori diversi o emergenti.\\n\\nRelativamente al debito pubblico, sul lungo termine, le maggiori efficienze portate dall'IA potrebbero apportare incrementi di produttività e crescita economica, aumentando di conseguenza le entrate fiscali e potenzialmente contribuendo alla riduzione del debito pubblico. Questo riguarda particolarmente i paesi con una popolazione anziana, dove l'IA potrebbe contribuire a mitigare il problema della riduzione della forza lavoro.\\n\\nIn ultima analisi, come neoclassico, credo nella capacità del mercato di auto-regolarsi, e ritengo che il progresso tecnologico, come l'IA, porterà alla fine a risultati economici positivi, grazie alla razionalità degli agenti coinvolti.\", cost={'usage_including_cached_inference': {'total_cost': 0}, 'usage_excluding_cached_inference': {'total_cost': 0}}, human_input=[])"
            ]
          },
          "metadata": {},
          "execution_count": 6
        }
      ]
    },
    {
      "cell_type": "markdown",
      "source": [
        "Sintesi del dibattito"
      ],
      "metadata": {
        "id": "YFxeBzqyngVx"
      }
    },
    {
      "cell_type": "code",
      "source": [
        "# 📚 Sintetizzatore\n",
        "sintetizzatore = AssistantAgent(\n",
        "    name=\"Sintetizzatore\",\n",
        "    system_message=\"Analizza il dibattito economico qui sotto e scrivi una sintesi chiara ed equilibrata, evidenziando le principali argomentazioni di ciascun partecipante.\",\n",
        "    llm_config={\"config_list\": config}\n",
        ")\n",
        "\n",
        "# 🔎 Estrai le conversazioni in un singolo testo\n",
        "contenuto_dibattito = \"\\n\\n\".join([\n",
        "    f\"{msg['role']}: {msg['content']}\" for msg in groupchat.messages\n",
        "])\n",
        "\n",
        "# 🧠 Richiedi la sintesi\n",
        "response = sintetizzatore.generate_reply(messages=[\n",
        "    {\"role\": \"user\", \"content\": f\"Ecco il dibattito:\\n\\n{contenuto_dibattito}\\n\\nScrivine una sintesi dettagliata.\"}\n",
        "])\n",
        "\n",
        "sintesi = response\n",
        "print(sintesi)\n"
      ],
      "metadata": {
        "colab": {
          "base_uri": "https://localhost:8080/"
        },
        "id": "uPVscww2nhC4",
        "outputId": "a54ac767-243e-4b57-aa87-631ad79da696"
      },
      "execution_count": 7,
      "outputs": [
        {
          "output_type": "stream",
          "name": "stdout",
          "text": [
            "Nel dibattito, gli utenti discutono gli effetti dell'intelligenza artificiale (AI) sull'inflazione, disoccupazione e debito pubblico, prendendo come punto di riferimento le loro scuole economiche di riferimento.\n",
            "\n",
            "Il primo utente segue una prospettiva classica, vedendo l'AI come un propulsore di produttività, ma sottolineando il rischio di un aumento della disoccupazione a causa dell'automazione. Per quanto riguarda il debito pubblico, l'utente evidenzia un possibile equilibrio tra un aumento delle entrate fiscali dovuto ad una maggiore produttività e un incremento delle spese sociali dovuto ad un aumento nell'unemployment. Inoltre, l'utente sottolinea l'importanza della considerazione delle politiche sociali, la tecnologia e l'etica nella discussione sull'AI.\n",
            "\n",
            "Il secondo utente, basandosi sulla scuola austriaca di economia, promuove una visione di libertà economica, considerando le novità portate dall'AI come opportunità, non minacce. L'utente sostiene che l'introduzione dell'AI può portare ad un ambiente deflattivo, ma è critico verso l'interventismo governativo in termini di regolazione dell'offerta di moneta o protezione dei lavoratori. Anche in termini di debito pubblico, l'utente sottolinea l'importanza del bilancio equilibrato, sconsigliando l'aumento della spesa pubblica.\n",
            "\n",
            "Il terzo utente, dalla prospettiva keynesiana, sostiene che l'AI potrebbe causare squilibri economici e sociali e che lo Stato dovrebbe intervenire per correggerli. Propone l'implementazione di politiche educative e programmi di sostegno per i lavoratori colpiti dall'automazione. Secondo questa visione, lo Stato ha un ruolo importante nelle economie con popolazioni anziane, dovendo garantire che questi lavoratori non vengano dimenticati nell'era dell'AI.\n",
            "\n",
            "Il quarto utente, seguendo una prospettiva neoclassica, riconosce l'importanza dell'efficienza del mercato e ritiene che l'AI porti benefici economici a lungo termine. L'utente sostiene le tesi della deflazione e del riadattamento dei lavoratori in nuovi settori a seguito dell'introduzione dell'AI, credendo nella capacità del mercato di auto-regolarsi. Egli sostiene che le migliorie nell'efficienza portate dall'IA potrebbero incrementare la crescita economica e le entrate fiscali, contribuendo alla riduzione del debito pubblico.\n"
          ]
        }
      ]
    },
    {
      "cell_type": "markdown",
      "source": [
        "Esportazione PDF del dibattito e della sintesi"
      ],
      "metadata": {
        "id": "84dDfYB2njV_"
      }
    },
    {
      "cell_type": "code",
      "metadata": {
        "id": "02907385"
      },
      "source": [
        "# Download the DejaVuSans font file\n",
        "!wget -q https://github.com/dejavu-fonts/dejavu-fonts/raw/master/ttf/DejaVuSans.ttf"
      ],
      "execution_count": 24,
      "outputs": []
    },
    {
      "cell_type": "code",
      "source": [
        "import os\n",
        "import requests\n",
        "\n",
        "font_dir = \"/content/fonts\"\n",
        "font_path = os.path.join(font_dir, \"DejaVuSans.ttf\")\n",
        "\n",
        "# Scarica il font in modo binario se non esiste\n",
        "if not os.path.exists(font_path):\n",
        "    os.makedirs(font_dir, exist_ok=True)\n",
        "    url = \"https://github.com/dejavu-fonts/dejavu-fonts/raw/version_2_37/ttf/DejaVuSans.ttf\"\n",
        "    response = requests.get(url)\n",
        "    with open(font_path, \"wb\") as f:\n",
        "        f.write(response.content)\n"
      ],
      "metadata": {
        "id": "fS98WdM08gDO"
      },
      "execution_count": 30,
      "outputs": []
    },
    {
      "cell_type": "code",
      "source": [
        "from fpdf import FPDF\n",
        "\n",
        "font_path = \"/usr/share/fonts/truetype/liberation/LiberationSans-Regular.ttf\"\n",
        "\n",
        "pdf = FPDF()\n",
        "pdf.add_page()\n",
        "\n",
        "# ✅ Font Unicode preinstallato in Colab\n",
        "pdf.add_font(\"Liberation\", \"\", font_path)\n",
        "pdf.set_font(\"Liberation\", size=12)\n",
        "\n",
        "# Titolo\n",
        "pdf.set_font(\"Liberation\", size=14)\n",
        "pdf.cell(200, 10, \"Dibattito AutoGen - IA, Economia e Demografia\", ln=True, align=\"C\")\n",
        "\n",
        "# Sezione: Dibattito\n",
        "pdf.set_font(\"Liberation\", style=\"\", size=12)\n",
        "pdf.ln(10)\n",
        "pdf.multi_cell(0, 10, \"Dibattito completo:\\n\\n\" + contenuto_dibattito)\n",
        "\n",
        "# Sezione: Sintesi\n",
        "pdf.ln(10)\n",
        "pdf.set_font(\"Liberation\", size=13)\n",
        "pdf.cell(200, 10, \"Sintesi del Dibattito\", ln=True)\n",
        "\n",
        "pdf.set_font(\"Liberation\", size=12)\n",
        "pdf.multi_cell(0, 10, sintesi)\n",
        "\n",
        "# Salva\n",
        "pdf.output(\"dibattito_economia_IA.pdf\")\n"
      ],
      "metadata": {
        "colab": {
          "base_uri": "https://localhost:8080/"
        },
        "id": "sq3pRdQOnlrL",
        "outputId": "7205239f-60b5-4e35-843d-3966c05df50f"
      },
      "execution_count": 33,
      "outputs": [
        {
          "output_type": "stream",
          "name": "stderr",
          "text": [
            "/tmp/ipython-input-33-2838766465.py:14: DeprecationWarning: The parameter \"ln\" is deprecated since v2.5.2. Instead of ln=True use new_x=XPos.LMARGIN, new_y=YPos.NEXT.\n",
            "  pdf.cell(200, 10, \"Dibattito AutoGen - IA, Economia e Demografia\", ln=True, align=\"C\")\n",
            "/tmp/ipython-input-33-2838766465.py:24: DeprecationWarning: The parameter \"ln\" is deprecated since v2.5.2. Instead of ln=True use new_x=XPos.LMARGIN, new_y=YPos.NEXT.\n",
            "  pdf.cell(200, 10, \"Sintesi del Dibattito\", ln=True)\n"
          ]
        }
      ]
    }
  ]
}